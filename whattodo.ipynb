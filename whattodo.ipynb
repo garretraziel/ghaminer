{
 "worksheets": [
  {
   "cells": [
    {
     "cell_type": "heading",
     "metadata": {},
     "level": 1,
     "source": [
      "Z čeho budu brát data"
     ]
    },
    {
     "cell_type": "markdown",
     "metadata": {},
     "source": [
      "- nejspíš hlavně GitHub API, knihovna [githubpy](https://github.com/michaelliao/githubpy)\n",
      "- pro získání vzorku repozitářů ze kterých budu dolovat asi githubarchive, nicméně k ničemu víc asi nebude"
     ]
    },
    {
     "cell_type": "heading",
     "metadata": {},
     "level": 1,
     "source": [
      "Z čeho a jak budu brát data pro dolování"
     ]
    },
    {
     "cell_type": "markdown",
     "metadata": {},
     "source": [
      "- napíšu crawler, který bude zjišťovat statistiky k repozitářům - střední doma čekání na opravu, medián, atp., spíš než jenom raw data\n",
      "- crawler bude při clawrování ignorovat budoucí data a zjistí statistiky ke starším datům, následně se podívá i na události do budoucnosti a podle toho klasifikuje \"byl aktivní\"/\"nebyl aktivní\"\n",
      "- aktivita by chtěla vyjádřit číslem asi, to by nakonec šlo tak, že bych vzal nejaktivnější v každé kategorii (commity, komentáře, pullrequesty...) a těm dal číslo \"100\", ostatním rovnoměrně od 0\n",
      "- výsledkem bude obří soubor, který bude obsahovat zadaný počet repozitářů a v každém řádku nějaké sumární informace o aktivitě projektu\n",
      "- následně můžu použít scikit-learn a už něco doopravdy začít učit"
     ]
    },
    {
     "cell_type": "code",
     "metadata": {},
     "outputs": [],
     "input": [
      ""
     ],
     "language": "python"
    }
   ]
  }
 ],
 "cells": [],
 "metadata": {
  "name": "",
  "signature": "sha256:dff4a3e1b51de9db3585accc52fac45c4ca4b26e71387ad442a55720539ebdb9"
 },
 "nbformat": 3,
 "nbformat_minor": 0
}