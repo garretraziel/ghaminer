{
 "metadata": {
  "name": "",
  "signature": "sha256:dff4a3e1b51de9db3585accc52fac45c4ca4b26e71387ad442a55720539ebdb9"
 },
 "nbformat": 3,
 "nbformat_minor": 0,
 "worksheets": [
  {
   "cells": [
    {
     "cell_type": "heading",
     "level": 1,
     "metadata": {},
     "source": [
      "Z \u010deho budu br\u00e1t data"
     ]
    },
    {
     "cell_type": "markdown",
     "metadata": {},
     "source": [
      "- nejsp\u00ed\u0161 hlavn\u011b GitHub API, knihovna [githubpy](https://github.com/michaelliao/githubpy)\n",
      "- pro z\u00edsk\u00e1n\u00ed vzorku repozit\u00e1\u0159\u016f ze kter\u00fdch budu dolovat asi githubarchive, nicm\u00e9n\u011b k ni\u010demu v\u00edc asi nebude"
     ]
    },
    {
     "cell_type": "heading",
     "level": 1,
     "metadata": {},
     "source": [
      "Z \u010deho a jak budu br\u00e1t data pro dolov\u00e1n\u00ed"
     ]
    },
    {
     "cell_type": "markdown",
     "metadata": {},
     "source": [
      "- nap\u00ed\u0161u crawler, kter\u00fd bude zji\u0161\u0165ovat statistiky k repozit\u00e1\u0159\u016fm - st\u0159edn\u00ed doma \u010dek\u00e1n\u00ed na opravu, medi\u00e1n, atp., sp\u00ed\u0161 ne\u017e jenom raw data\n",
      "- crawler bude p\u0159i clawrov\u00e1n\u00ed ignorovat budouc\u00ed data a zjist\u00ed statistiky ke star\u0161\u00edm dat\u016fm, n\u00e1sledn\u011b se pod\u00edv\u00e1 i na ud\u00e1losti do budoucnosti a podle toho klasifikuje \"byl aktivn\u00ed\"/\"nebyl aktivn\u00ed\"\n",
      "- aktivita by cht\u011bla vyj\u00e1d\u0159it \u010d\u00edslem asi, to by nakonec \u0161lo tak, \u017ee bych vzal nejaktivn\u011bj\u0161\u00ed v ka\u017ed\u00e9 kategorii (commity, koment\u00e1\u0159e, pullrequesty...) a t\u011bm dal \u010d\u00edslo \"100\", ostatn\u00edm rovnom\u011brn\u011b od 0\n",
      "- v\u00fdsledkem bude ob\u0159\u00ed soubor, kter\u00fd bude obsahovat zadan\u00fd po\u010det repozit\u00e1\u0159\u016f a v ka\u017ed\u00e9m \u0159\u00e1dku n\u011bjak\u00e9 sum\u00e1rn\u00ed informace o aktivit\u011b projektu\n",
      "- n\u00e1sledn\u011b m\u016f\u017eu pou\u017e\u00edt scikit-learn a u\u017e n\u011bco doopravdy za\u010d\u00edt u\u010dit"
     ]
    },
    {
     "cell_type": "code",
     "collapsed": false,
     "input": [],
     "language": "python",
     "metadata": {},
     "outputs": []
    }
   ],
   "metadata": {}
  }
 ]
}