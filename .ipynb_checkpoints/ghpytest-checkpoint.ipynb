{
 "worksheets": [
  {
   "cells": [
    {
     "cell_type": "code",
     "metadata": {},
     "outputs": [],
     "input": [
      "import github"
     ],
     "language": "python",
     "prompt_number": 1
    },
    {
     "cell_type": "code",
     "metadata": {},
     "outputs": [],
     "input": [
      "gh = github.GitHub(username=\"garretraziel\", password=\"Boloomka0951\")"
     ],
     "language": "python",
     "prompt_number": 2
    },
    {
     "cell_type": "code",
     "metadata": {},
     "outputs": [
      {
       "output_type": "pyout",
       "prompt_number": 3,
       "text": [
        "<github.GitHub at 0x10901ee10>"
       ],
       "metadata": {}
      }
     ],
     "input": [
      "gh"
     ],
     "language": "python",
     "prompt_number": 3
    },
    {
     "cell_type": "code",
     "metadata": {},
     "outputs": [],
     "input": [
      "user = gh.users(\"garretraziel\").get()"
     ],
     "language": "python",
     "prompt_number": 4
    },
    {
     "cell_type": "code",
     "metadata": {},
     "outputs": [
      {
       "output_type": "pyout",
       "prompt_number": 5,
       "text": [
        "{'avatar_url': u'https://avatars.githubusercontent.com/u/185492?v=3',\n",
        " 'bio': None,\n",
        " 'blog': u'http://www.jansedlak.cz',\n",
        " 'collaborators': 3,\n",
        " 'company': u'Red Hat, Inc',\n",
        " 'created_at': u'2010-01-19T15:52:29Z',\n",
        " 'disk_usage': 79458,\n",
        " 'email': u'boloomka@gmail.com',\n",
        " 'events_url': u'https://api.github.com/users/garretraziel/events{/privacy}',\n",
        " 'followers': 2,\n",
        " 'followers_url': u'https://api.github.com/users/garretraziel/followers',\n",
        " 'following': 5,\n",
        " 'following_url': u'https://api.github.com/users/garretraziel/following{/other_user}',\n",
        " 'gists_url': u'https://api.github.com/users/garretraziel/gists{/gist_id}',\n",
        " 'gravatar_id': u'',\n",
        " 'hireable': False,\n",
        " 'html_url': u'https://github.com/garretraziel',\n",
        " 'id': 185492,\n",
        " 'location': u'Brno, Czech Republic',\n",
        " 'login': u'garretraziel',\n",
        " 'name': u'Jan Sedl\\xe1k',\n",
        " 'organizations_url': u'https://api.github.com/users/garretraziel/orgs',\n",
        " 'owned_private_repos': 3,\n",
        " 'plan': {'collaborators': 0,\n",
        "  'name': u'micro',\n",
        "  'private_repos': 5,\n",
        "  'space': 614400},\n",
        " 'private_gists': 0,\n",
        " 'public_gists': 10,\n",
        " 'public_repos': 14,\n",
        " 'received_events_url': u'https://api.github.com/users/garretraziel/received_events',\n",
        " 'repos_url': u'https://api.github.com/users/garretraziel/repos',\n",
        " 'site_admin': False,\n",
        " 'starred_url': u'https://api.github.com/users/garretraziel/starred{/owner}{/repo}',\n",
        " 'subscriptions_url': u'https://api.github.com/users/garretraziel/subscriptions',\n",
        " 'total_private_repos': 3,\n",
        " 'type': u'User',\n",
        " 'updated_at': u'2015-01-16T22:23:29Z',\n",
        " 'url': u'https://api.github.com/users/garretraziel'}"
       ],
       "metadata": {}
      }
     ],
     "input": [
      "user"
     ],
     "language": "python",
     "prompt_number": 5
    },
    {
     "cell_type": "code",
     "metadata": {},
     "outputs": [],
     "input": [
      "repos = gh.users('garretraziel').repos().get()"
     ],
     "language": "python",
     "prompt_number": 9
    },
    {
     "cell_type": "code",
     "metadata": {},
     "outputs": [
      {
       "output_type": "pyout",
       "prompt_number": 10,
       "text": [
        "14"
       ],
       "metadata": {}
      }
     ],
     "input": [
      "len(repos)"
     ],
     "language": "python",
     "prompt_number": 10
    },
    {
     "cell_type": "code",
     "metadata": {},
     "outputs": [
      {
       "output_type": "pyout",
       "prompt_number": 11,
       "text": [
        "list"
       ],
       "metadata": {}
      }
     ],
     "input": [
      "type(repos)"
     ],
     "language": "python",
     "prompt_number": 11
    },
    {
     "cell_type": "code",
     "metadata": {},
     "outputs": [],
     "input": [
      "commits = gh.repos('garretraziel')('ags').commits().get()"
     ],
     "language": "python",
     "prompt_number": 14
    },
    {
     "cell_type": "code",
     "metadata": {},
     "outputs": [
      {
       "output_type": "pyout",
       "prompt_number": 15,
       "text": [
        "30"
       ],
       "metadata": {}
      }
     ],
     "input": [
      "len(commits)"
     ],
     "language": "python",
     "prompt_number": 15
    },
    {
     "cell_type": "code",
     "metadata": {},
     "outputs": [
      {
       "output_type": "pyout",
       "prompt_number": 16,
       "text": [
        "{'author': {'avatar_url': u'https://avatars.githubusercontent.com/u/185492?v=3',\n",
        "  'events_url': u'https://api.github.com/users/garretraziel/events{/privacy}',\n",
        "  'followers_url': u'https://api.github.com/users/garretraziel/followers',\n",
        "  'following_url': u'https://api.github.com/users/garretraziel/following{/other_user}',\n",
        "  'gists_url': u'https://api.github.com/users/garretraziel/gists{/gist_id}',\n",
        "  'gravatar_id': u'',\n",
        "  'html_url': u'https://github.com/garretraziel',\n",
        "  'id': 185492,\n",
        "  'login': u'garretraziel',\n",
        "  'organizations_url': u'https://api.github.com/users/garretraziel/orgs',\n",
        "  'received_events_url': u'https://api.github.com/users/garretraziel/received_events',\n",
        "  'repos_url': u'https://api.github.com/users/garretraziel/repos',\n",
        "  'site_admin': False,\n",
        "  'starred_url': u'https://api.github.com/users/garretraziel/starred{/owner}{/repo}',\n",
        "  'subscriptions_url': u'https://api.github.com/users/garretraziel/subscriptions',\n",
        "  'type': u'User',\n",
        "  'url': u'https://api.github.com/users/garretraziel'},\n",
        " 'comments_url': u'https://api.github.com/repos/garretraziel/ags/commits/75f1377f50bad8463cb05a71b3aaca23d38ff655/comments',\n",
        " 'commit': {'author': {'date': u'2014-05-09T15:07:13Z',\n",
        "   'email': u'boloomka@gmail.com',\n",
        "   'name': u'Garret Raziel'},\n",
        "  'comment_count': 0,\n",
        "  'committer': {'date': u'2014-05-09T15:07:13Z',\n",
        "   'email': u'boloomka@gmail.com',\n",
        "   'name': u'Garret Raziel'},\n",
        "  'message': u'mozna oprava bugu',\n",
        "  'tree': {'sha': u'e02e1afe1d0c7936d23a98d98f8fb425a34edba0',\n",
        "   'url': u'https://api.github.com/repos/garretraziel/ags/git/trees/e02e1afe1d0c7936d23a98d98f8fb425a34edba0'},\n",
        "  'url': u'https://api.github.com/repos/garretraziel/ags/git/commits/75f1377f50bad8463cb05a71b3aaca23d38ff655'},\n",
        " 'committer': {'avatar_url': u'https://avatars.githubusercontent.com/u/185492?v=3',\n",
        "  'events_url': u'https://api.github.com/users/garretraziel/events{/privacy}',\n",
        "  'followers_url': u'https://api.github.com/users/garretraziel/followers',\n",
        "  'following_url': u'https://api.github.com/users/garretraziel/following{/other_user}',\n",
        "  'gists_url': u'https://api.github.com/users/garretraziel/gists{/gist_id}',\n",
        "  'gravatar_id': u'',\n",
        "  'html_url': u'https://github.com/garretraziel',\n",
        "  'id': 185492,\n",
        "  'login': u'garretraziel',\n",
        "  'organizations_url': u'https://api.github.com/users/garretraziel/orgs',\n",
        "  'received_events_url': u'https://api.github.com/users/garretraziel/received_events',\n",
        "  'repos_url': u'https://api.github.com/users/garretraziel/repos',\n",
        "  'site_admin': False,\n",
        "  'starred_url': u'https://api.github.com/users/garretraziel/starred{/owner}{/repo}',\n",
        "  'subscriptions_url': u'https://api.github.com/users/garretraziel/subscriptions',\n",
        "  'type': u'User',\n",
        "  'url': u'https://api.github.com/users/garretraziel'},\n",
        " 'html_url': u'https://github.com/garretraziel/ags/commit/75f1377f50bad8463cb05a71b3aaca23d38ff655',\n",
        " 'parents': [{'html_url': u'https://github.com/garretraziel/ags/commit/150df4e7770d3eda0326a7a8323e97e6a92284c0',\n",
        "   'sha': u'150df4e7770d3eda0326a7a8323e97e6a92284c0',\n",
        "   'url': u'https://api.github.com/repos/garretraziel/ags/commits/150df4e7770d3eda0326a7a8323e97e6a92284c0'}],\n",
        " 'sha': u'75f1377f50bad8463cb05a71b3aaca23d38ff655',\n",
        " 'url': u'https://api.github.com/repos/garretraziel/ags/commits/75f1377f50bad8463cb05a71b3aaca23d38ff655'}"
       ],
       "metadata": {}
      }
     ],
     "input": [
      "commits[0]"
     ],
     "language": "python",
     "prompt_number": 16
    },
    {
     "cell_type": "code",
     "metadata": {},
     "outputs": [
      {
       "output_type": "pyout",
       "prompt_number": 17,
       "text": [
        "5000"
       ],
       "metadata": {}
      }
     ],
     "input": [
      "gh.x_ratelimit_limit"
     ],
     "language": "python",
     "prompt_number": 17
    },
    {
     "cell_type": "code",
     "metadata": {},
     "outputs": [
      {
       "output_type": "pyout",
       "prompt_number": 50,
       "text": [
        "4991"
       ],
       "metadata": {}
      }
     ],
     "input": [
      "gh.x_ratelimit_remaining"
     ],
     "language": "python",
     "prompt_number": 50
    },
    {
     "cell_type": "code",
     "metadata": {},
     "outputs": [
      {
       "output_type": "pyout",
       "prompt_number": 49,
       "text": [
        "1421495909"
       ],
       "metadata": {}
      }
     ],
     "input": [
      "gh.x_ratelimit_reset"
     ],
     "language": "python",
     "prompt_number": 49
    },
    {
     "cell_type": "code",
     "metadata": {},
     "outputs": [
      {
       "output_type": "pyout",
       "prompt_number": 48,
       "text": [
        "1421498620.172653"
       ],
       "metadata": {}
      }
     ],
     "input": [
      "from datetime import datetime\n",
      "(datetime.utcnow() - datetime(1970, 1, 1)).total_seconds()"
     ],
     "language": "python",
     "prompt_number": 48
    },
    {
     "cell_type": "code",
     "metadata": {},
     "outputs": [],
     "input": [
      ""
     ],
     "language": "python"
    }
   ]
  }
 ],
 "cells": [],
 "metadata": {
  "signature": "sha256:4b00cbf1ee8975b011206e939d03c9214d0c6fe6468b8c34be5bc42e6dfc0d98"
 },
 "nbformat": 3,
 "nbformat_minor": 0
}