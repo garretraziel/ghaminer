{
 "metadata": {
  "name": "",
  "signature": "sha256:37d9ab79ea5e18337bfe8d1a55059eecb52452c4d8b87afb8f4f4548f9ae2723"
 },
 "nbformat": 3,
 "nbformat_minor": 0,
 "worksheets": [
  {
   "cells": [
    {
     "cell_type": "heading",
     "level": 1,
     "metadata": {},
     "source": [
      "Z \u010deho budu br\u00e1t data"
     ]
    },
    {
     "cell_type": "markdown",
     "metadata": {},
     "source": [
      "- nejsp\u00ed\u0161 hlavn\u011b GitHub API, knihovna [githubpy](https://github.com/michaelliao/githubpy)\n",
      "- pro z\u00edsk\u00e1n\u00ed vzorku repozit\u00e1\u0159\u016f ze kter\u00fdch budu dolovat asi githubarchive, nicm\u00e9n\u011b k ni\u010demu v\u00edc asi nebude"
     ]
    },
    {
     "cell_type": "heading",
     "level": 1,
     "metadata": {},
     "source": [
      "Jak budu br\u00e1t data pro dolov\u00e1n\u00ed"
     ]
    },
    {
     "cell_type": "markdown",
     "metadata": {},
     "source": [
      "- nap\u00ed\u0161u crawler, kter\u00fd bude zji\u0161\u0165ovat statistiky k repozit\u00e1\u0159\u016fm - st\u0159edn\u00ed doma \u010dek\u00e1n\u00ed na opravu, medi\u00e1n, atp., sp\u00ed\u0161 ne\u017e jenom raw data\n",
      "- crawler bude p\u0159i clawrov\u00e1n\u00ed ignorovat budouc\u00ed data a zjist\u00ed statistiky ke star\u0161\u00edm dat\u016fm, n\u00e1sledn\u011b se pod\u00edv\u00e1 i na ud\u00e1losti do budoucnosti a podle toho klasifikuje \"byl aktivn\u00ed\"/\"nebyl aktivn\u00ed\"\n",
      "- aktivita by cht\u011bla vyj\u00e1d\u0159it \u010d\u00edslem asi, to by nakonec \u0161lo tak, \u017ee bych vzal nejaktivn\u011bj\u0161\u00ed v ka\u017ed\u00e9 kategorii (commity, koment\u00e1\u0159e, pullrequesty...) a t\u011bm dal \u010d\u00edslo \"100\", ostatn\u00edm rovnom\u011brn\u011b od 0\n",
      "- v\u00fdsledkem bude ob\u0159\u00ed soubor, kter\u00fd bude obsahovat zadan\u00fd po\u010det repozit\u00e1\u0159\u016f a v ka\u017ed\u00e9m \u0159\u00e1dku n\u011bjak\u00e9 sum\u00e1rn\u00ed informace o aktivit\u011b projektu\n",
      "- n\u00e1sledn\u011b m\u016f\u017eu pou\u017e\u00edt scikit-learn a u\u017e n\u011bco doopravdy za\u010d\u00edt u\u010dit\n",
      "- jak nad t\u00edm p\u0159em\u00fd\u0161l\u00edm, pro \"je/nen\u00ed aktivn\u00ed\" m\u016f\u017eu pou\u017e\u00edt \u00fadaj `updated_at` - pokud je `updated_at` bl\u00edzko dne\u0161ka, je aktivn\u00ed, pro za\u010d\u00e1tek. po porad\u011b s Bart\u00edkem pak m\u016f\u017eu i vz\u00edt dobu dlouho p\u0159ed `updated_at` a pova\u017eovat ho v t\u00e9 dob\u011b za aktivn\u00ed. mo\u017en\u00e1 bych pak mohl p\u0159edpov\u00eddat, jak dlouho je\u0161t\u011b aktivn\u00ed bude?"
     ]
    },
    {
     "cell_type": "heading",
     "level": 2,
     "metadata": {},
     "source": [
      "Co budu dolovat"
     ]
    },
    {
     "cell_type": "markdown",
     "metadata": {},
     "source": [
      "1. id\n",
      "2. jm\u00e9no\n",
      "3. jestli se jedn\u00e1 o fork\n",
      "4. po\u010det stargazer\u016f\n",
      "5. po\u010det fork\u016f\n",
      "6. po\u010det sleduj\u00edc\u00edch\n",
      "7. po\u010det otev\u0159en\u00fdch issues\n",
      "8. po\u010det subscribnut\u00fdch\n",
      "9. velikost\n",
      "10. kdy bylo pushnuto\n",
      "11. kdy bylo vytvo\u0159eno\n",
      "12. kdy bylo updatov\u00e1no\n",
      "13. po\u010det otev\u0159en\u00fdch ticket\u016f\n",
      "14. po\u010det uzav\u0159en\u00fdch ticket\u016f\n",
      "15. pom\u011br celkov\u00e9ho po\u010detu ticket\u016f ku uzav\u0159en\u00fdm\n",
      "16. pr\u016fm\u011brn\u00e1 doba od nahl\u00e1\u0161en\u00ed ticketu po jeho zav\u0159en\u00ed (u zav\u0159en\u00fdch ticket\u016f)\n"
     ]
    },
    {
     "cell_type": "heading",
     "level": 2,
     "metadata": {},
     "source": [
      "Co je to aktivn\u00ed projekt"
     ]
    },
    {
     "cell_type": "markdown",
     "metadata": {},
     "source": [
      "- aktivita bude podm\u00edn\u011bn\u00e1 zas\u00edl\u00e1n\u00edm k\u00f3du - cokoliv jin\u00e9ho - koment\u00e1\u0159e, labelov\u00e1n\u00ed, vytv\u00e1\u0159en\u00ed wiki... nebude br\u00e1no jako aktivita projektu (tohle by cht\u011blo nejd\u0159\u00edv konzultovat)\n",
      "- aktivn\u00ed projekt je tedy takov\u00fd, do kter\u00e9ho bude v budoucnu zasl\u00e1n commit"
     ]
    }
   ],
   "metadata": {}
  }
 ]
}