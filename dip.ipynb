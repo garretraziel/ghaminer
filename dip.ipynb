{
 "metadata": {
  "name": "",
  "signature": "sha256:3a38724a85ec0e286f8cb212ee8c652526f83e4c4fb979dce7566230f7382a94"
 },
 "nbformat": 3,
 "nbformat_minor": 0,
 "worksheets": [
  {
   "cells": [
    {
     "cell_type": "heading",
     "level": 1,
     "metadata": {},
     "source": [
      "Kapitoly"
     ]
    },
    {
     "cell_type": "markdown",
     "metadata": {},
     "source": [
      "1. uvod\n",
      "2. o tom, co to je data mining + algoritmy\n",
      "3. prozkoumani dostupnych API\n",
      "4. popis vybrane sluzby?\n",
      "5. popis a zduvodneni ziskavani data setu"
     ]
    },
    {
     "cell_type": "code",
     "collapsed": false,
     "input": [],
     "language": "python",
     "metadata": {},
     "outputs": []
    }
   ],
   "metadata": {}
  }
 ]
}